{
 "cells": [
  {
   "cell_type": "markdown",
   "id": "feec555d",
   "metadata": {},
   "source": [
    "### SETUP & CONSTANTS"
   ]
  },
  {
   "cell_type": "code",
   "execution_count": 1,
   "id": "9bf0b4ca",
   "metadata": {},
   "outputs": [],
   "source": [
    "import re\n",
    "import os\n",
    "from pyspark.sql import SparkSession\n",
    "from pyspark.sql import DataFrame\n",
    "import pyspark.sql.functions as F\n",
    "from pyspark.sql import Window\n",
    "from functools import reduce\n",
    "\n",
    "# CONSTANTS\n",
    "INPUT_PATH = './notebooks/csv/'\n",
    "TABLE_NAMES = [\n",
    "    'Purchases',\n",
    "    'Sales',\n",
    "    'BegInv',\n",
    "    'EndInv',\n",
    "    'PurchasePrices',\n",
    "    'InvoicePurchases',\n",
    "]"
   ]
  },
  {
   "cell_type": "code",
   "execution_count": 2,
   "id": "16f09cc6",
   "metadata": {},
   "outputs": [],
   "source": [
    "def unique(df, group_by, select_cols,min=1):\n",
    "    return df.groupBy(*group_by).agg(F.collect_set(F.struct(*select_cols)).alias('objs')).where(F.array_size('objs')>min)"
   ]
  },
  {
   "cell_type": "code",
   "execution_count": 3,
   "id": "661b4386",
   "metadata": {},
   "outputs": [
    {
     "name": "stdout",
     "output_type": "stream",
     "text": [
      "PurchasePrices:\n",
      "+-----+--------------------+-----+-----+------+--------------+-------------+------------+--------------------+\n",
      "|Brand|         Description|Price| Size|Volume|Classification|PurchasePrice|VendorNumber|          VendorName|\n",
      "+-----+--------------------+-----+-----+------+--------------+-------------+------------+--------------------+\n",
      "|   58|Gekkeikan Black &...|12.99|750mL|   750|             1|         9.28|        8320|SHAW ROSS INT L I...|\n",
      "|   62|Herradura Silver ...|36.99|750mL|   750|             1|        28.67|        1128|BROWN-FORMAN CORP...|\n",
      "+-----+--------------------+-----+-----+------+--------------+-------------+------------+--------------------+\n",
      "\n",
      "BegInv:\n",
      "+-----------------+-----+------------+-----+--------------------+-----+------+-----+----------+\n",
      "|      InventoryId|Store|        City|Brand|         Description| Size|onHand|Price| startDate|\n",
      "+-----------------+-----+------------+-----+--------------------+-----+------+-----+----------+\n",
      "|1_HARDERSFIELD_58|    1|HARDERSFIELD|   58|Gekkeikan Black &...|750mL|     8|12.99|2016-01-01|\n",
      "|1_HARDERSFIELD_60|    1|HARDERSFIELD|   60|Canadian Club 185...|750mL|     7|10.99|2016-01-01|\n",
      "+-----------------+-----+------------+-----+--------------------+-----+------+-----+----------+\n",
      "\n",
      "EndInv:\n",
      "+-----------------+-----+------------+-----+--------------------+-----+------+-----+----------+\n",
      "|      InventoryId|Store|        City|Brand|         Description| Size|onHand|Price|   endDate|\n",
      "+-----------------+-----+------------+-----+--------------------+-----+------+-----+----------+\n",
      "|1_HARDERSFIELD_58|    1|HARDERSFIELD|   58|Gekkeikan Black &...|750mL|    11|12.99|2016-12-31|\n",
      "|1_HARDERSFIELD_62|    1|HARDERSFIELD|   62|Herradura Silver ...|750mL|     7|36.99|2016-12-31|\n",
      "+-----------------+-----+------------+-----+--------------------+-----+------+-----+----------+\n",
      "\n",
      "InvoicePurchases:\n",
      "+------------+--------------------+-----------+--------+----------+----------+--------+-------+-------+--------+\n",
      "|VendorNumber|          VendorName|InvoiceDate|PONumber|    PODate|   PayDate|Quantity|Dollars|Freight|Approval|\n",
      "+------------+--------------------+-----------+--------+----------+----------+--------+-------+-------+--------+\n",
      "|         105|ALTAMAR BRANDS LL...| 2016-01-04|    8124|2015-12-21|2016-02-16|       6| 214.26|   3.47|    None|\n",
      "|        4466|AMERICAN VINTAGE ...| 2016-01-07|    8137|2015-12-22|2016-02-21|      15| 140.55|   8.57|    None|\n",
      "+------------+--------------------+-----------+--------+----------+----------+--------+-------+-------+--------+\n",
      "\n",
      "Purchases:\n",
      "+-----------------+-----+-----+--------------------+-----+------------+--------------------+--------+----------+-------------+-----------+----------+-------------+--------+-------+--------------+\n",
      "|      InventoryId|Store|Brand|         Description| Size|VendorNumber|          VendorName|PONumber|    PODate|ReceivingDate|InvoiceDate|   PayDate|PurchasePrice|Quantity|Dollars|Classification|\n",
      "+-----------------+-----+-----+--------------------+-----+------------+--------------------+--------+----------+-------------+-----------+----------+-------------+--------+-------+--------------+\n",
      "|69_MOUNTMEND_8412|   69| 8412|Tequila Ocho Plat...|750mL|         105|ALTAMAR BRANDS LL...|    8124|2015-12-21|   2016-01-02| 2016-01-04|2016-02-16|        35.71|       6| 214.26|             1|\n",
      "| 30_CULCHETH_5255|   30| 5255|TGI Fridays Ultim...|1.75L|        4466|AMERICAN VINTAGE ...|    8137|2015-12-22|   2016-01-01| 2016-01-07|2016-02-21|         9.35|       4|   37.4|             1|\n",
      "+-----------------+-----+-----+--------------------+-----+------------+--------------------+--------+----------+-------------+-----------+----------+-------------+--------+-------+--------------+\n",
      "\n",
      "Sales:\n",
      "+-------------------+-----+-----+--------------------+-----+-------------+------------+----------+----------+------+--------------+---------+--------+--------------------+\n",
      "|        InventoryId|Store|Brand|         Description| Size|SalesQuantity|SalesDollars|SalesPrice| SalesDate|Volume|Classification|ExciseTax|VendorNo|          VendorName|\n",
      "+-------------------+-----+-----+--------------------+-----+-------------+------------+----------+----------+------+--------------+---------+--------+--------------------+\n",
      "|1_HARDERSFIELD_1004|    1| 1004|Jim Beam w/2 Rock...|750mL|            1|       16.49|     16.49|2016-01-01|   750|             1|     0.79|   12546|JIM BEAM BRANDS C...|\n",
      "|1_HARDERSFIELD_1004|    1| 1004|Jim Beam w/2 Rock...|750mL|            2|       32.98|     16.49|2016-01-02|   750|             1|     1.57|   12546|JIM BEAM BRANDS C...|\n",
      "+-------------------+-----+-----+--------------------+-----+-------------+------------+----------+----------+------+--------------+---------+--------+--------------------+\n",
      "\n"
     ]
    }
   ],
   "source": [
    "spark= (\n",
    "    SparkSession.builder.appName(\"transform\")\n",
    "    .getOrCreate()\n",
    ")\n",
    "existing_csv = os.listdir(INPUT_PATH)\n",
    "_df_raw={}\n",
    "\n",
    "\n",
    "for file in existing_csv:\n",
    "    filename=rf'{INPUT_PATH}/{file}'\n",
    "    table_name = re.sub(r'FINAL|Dec|\\d+|\\.csv', '', file)\n",
    "    if table_name not in TABLE_NAMES:\n",
    "        continue\n",
    "\n",
    "    _df_raw[table_name]=spark.read.format(\"csv\").option(\"header\",True).load(filename)\n",
    "    print(f'{table_name}:')\n",
    "    _df_raw[table_name].limit(2).show()\n",
    "\n"
   ]
  },
  {
   "cell_type": "markdown",
   "id": "15bb767d",
   "metadata": {},
   "source": [
    "### SUMMARY"
   ]
  },
  {
   "cell_type": "markdown",
   "id": "ff6063ff",
   "metadata": {},
   "source": [
    "### SIMPLE TABLES"
   ]
  },
  {
   "cell_type": "markdown",
   "id": "3fa087f5",
   "metadata": {},
   "source": [
    "#### _df_product"
   ]
  },
  {
   "cell_type": "code",
   "execution_count": 4,
   "id": "398314c4",
   "metadata": {},
   "outputs": [
    {
     "data": {
      "text/plain": [
       "DataFrame[id: int, Brand: int, Description: string, Size: string, alt_descriptions: array<string>]"
      ]
     },
     "execution_count": 4,
     "metadata": {},
     "output_type": "execute_result"
    }
   ],
   "source": [
    "product_cols = ['Brand', 'Description', 'Size']\n",
    "\n",
    "_df_product_raw = (\n",
    "        reduce(\n",
    "        DataFrame.unionByName,\n",
    "        [\n",
    "            _df_raw['Purchases'].select(*product_cols),\n",
    "            _df_raw['Sales'].select(*product_cols),\n",
    "            _df_raw['BegInv'].select(*product_cols),\n",
    "            _df_raw['EndInv'].select(*product_cols),\n",
    "        ]\n",
    "    )\n",
    "    .select(F.col('Brand').cast('int').alias('Brand'),'Description','Size')\n",
    ")\n",
    "_df_product_raw.cache()\n",
    "\n",
    "_df_product = (\n",
    "    _df_product_raw\n",
    "    .groupBy('Brand')\n",
    "    .agg(\n",
    "        F.collect_set('Description').alias('alt_names'),\n",
    "        F.first('Size').alias('Size')\n",
    "    )\n",
    "    .withColumn('Description', F.expr(\"alt_names[0]\")) # just take the first description available\n",
    "    .withColumn('alt_descriptions', F.expr(\"slice(alt_names, 2, size(alt_names) - 1)\")) # store alternate names though\n",
    "    .select(\n",
    "        F.row_number().over(Window.orderBy('Brand')).alias('id'),\n",
    "        'Brand',\n",
    "        'Description',\n",
    "        'Size',\n",
    "        'alt_descriptions',\n",
    "    )\n",
    ")\n",
    "_df_product.cache()"
   ]
  },
  {
   "cell_type": "markdown",
   "id": "7fe2e57e",
   "metadata": {},
   "source": [
    "#### _df_vendor"
   ]
  },
  {
   "cell_type": "code",
   "execution_count": 5,
   "id": "d37ccc07",
   "metadata": {},
   "outputs": [],
   "source": [
    "vendor_cols=['VendorNumber', 'VendorName']\n",
    "_df_vendor = (\n",
    "    reduce(\n",
    "        DataFrame.unionByName,\n",
    "        [\n",
    "            _df_raw['Purchases'].select(*vendor_cols),\n",
    "            _df_raw['InvoicePurchases'].select(*vendor_cols),\n",
    "            _df_raw['PurchasePrices'].select(*vendor_cols),\n",
    "            _df_raw['Sales'].withColumnRenamed('VendorNo','VendorNumber').select(*vendor_cols), # may not be necessary\n",
    "        ]\n",
    "    )\n",
    "    .groupBy(F.col('VendorNumber').cast('int').alias('VendorNumber'))\n",
    "    .agg(\n",
    "        F.collect_set('VendorName').alias('alt_names')\n",
    "    )\n",
    "    .withColumn('VendorName', F.expr(\"alt_names[0]\"))\n",
    "    .withColumn('alt_vendor_names', F.expr(\"slice(alt_names, 2, size(alt_names) - 1)\"))\n",
    "    .select(\n",
    "        F.row_number().over(Window.orderBy('VendorNumber')).alias('id'),\n",
    "        'VendorNumber',\n",
    "        'VendorName',\n",
    "        'alt_vendor_names',\n",
    "    )\n",
    ")"
   ]
  },
  {
   "cell_type": "markdown",
   "id": "8759c637",
   "metadata": {},
   "source": [
    "#### _df_city"
   ]
  },
  {
   "cell_type": "code",
   "execution_count": 6,
   "id": "2497fb08",
   "metadata": {},
   "outputs": [],
   "source": [
    "_df_inventory_union = _df_raw['BegInv'].unionByName(_df_raw['BegInv'],allowMissingColumns=True)\n",
    "\n",
    "_df_city = (\n",
    "    _df_inventory_union\n",
    "    .select('City')\n",
    "    .distinct()\n",
    "    .select(\n",
    "        F.row_number().over(Window.orderBy('City')).alias('id'),\n",
    "        'City'\n",
    "    )\n",
    ")"
   ]
  },
  {
   "cell_type": "markdown",
   "id": "a0f50564",
   "metadata": {},
   "source": [
    "#### _df_store"
   ]
  },
  {
   "cell_type": "code",
   "execution_count": 7,
   "id": "638378aa",
   "metadata": {},
   "outputs": [],
   "source": [
    "_df_store = (\n",
    "    _df_inventory_union\n",
    "    .join(_df_city.select('id','City').alias('c'), ['City'], 'left')\n",
    "    .select(F.col('Store').cast('int').alias('Store'),F.col('c.id').alias('city_id'))\n",
    "    .distinct()\n",
    "    .select(\n",
    "        F.row_number().over(Window.orderBy('Store','city_id')).alias('id'),\n",
    "        F.col('Store').alias('Store'),\n",
    "        'city_id'\n",
    "    )\n",
    ")"
   ]
  },
  {
   "cell_type": "markdown",
   "id": "a2b539ba",
   "metadata": {},
   "source": [
    "#### _df_inventory"
   ]
  },
  {
   "cell_type": "code",
   "execution_count": 8,
   "id": "94dc7d47",
   "metadata": {},
   "outputs": [
    {
     "data": {
      "text/plain": [
       "DataFrame[InventoryID: string, Store: string, Brand: string]"
      ]
     },
     "execution_count": 8,
     "metadata": {},
     "output_type": "execute_result"
    }
   ],
   "source": [
    "inventory_cols = ['InventoryID', 'Store', 'Brand']\n",
    "_df_inventory_raw = (\n",
    "    reduce(\n",
    "        DataFrame.unionByName,\n",
    "        [\n",
    "            _df_raw['Purchases'].select(*inventory_cols),\n",
    "            _df_raw['Sales'].select(*inventory_cols),\n",
    "            _df_raw['BegInv'].select(*inventory_cols),\n",
    "            _df_raw['EndInv'].select(*inventory_cols),\n",
    "        ]\n",
    "    ).distinct()\n",
    ")\n",
    "_df_inventory_raw.cache()"
   ]
  },
  {
   "cell_type": "code",
   "execution_count": 9,
   "id": "84624a5a",
   "metadata": {},
   "outputs": [],
   "source": [
    "shared_inventory_cols = ['InventoryId','Store','Brand']\n",
    "_df_inventory = (\n",
    "    _df_inventory_raw\n",
    "    .join(_df_raw['BegInv'].alias('start'), shared_inventory_cols,'left')\n",
    "    .join(_df_raw['EndInv'].alias('end'), shared_inventory_cols,'left')\n",
    "    .withColumn('Brand', F.col('Brand').cast('int'))\n",
    "    .join(_df_store.select(F.col('id').alias('store_id'),'Store').alias('s'), ['Store'], 'left')\n",
    "    .join(_df_product.select(F.col('id').alias('product_id'),'Brand').alias('p'), ['Brand'], 'left')\n",
    "    .select(\n",
    "        F.row_number().over(Window.orderBy('InventoryId','store_id','product_id')).alias('id'),\n",
    "        'InventoryId','store_id','product_id', # PK\n",
    "        # F.struct('start.price', F.col('start.startDate').alias('date'), 'start.onHand').alias('start'),\n",
    "        # F.struct('end.price', F.col('end.endDate').alias('date'), 'end.onHand').alias('end'),\n",
    "        F.col('start.price').alias('start_price'),\n",
    "        F.col('start.startDate').alias('start_date'),\n",
    "        F.col('start.onHand').alias('start_onHand'),\n",
    "        F.col('end.price').alias('end_price'),\n",
    "        F.col('end.endDate').alias('end_date'),\n",
    "        F.col('end.onHand').alias('end_onHand'),\n",
    "    )\n",
    ")\n",
    "\n"
   ]
  },
  {
   "cell_type": "markdown",
   "id": "67902ae7",
   "metadata": {},
   "source": [
    "#### _df_purchase_order"
   ]
  },
  {
   "cell_type": "code",
   "execution_count": 10,
   "id": "f2ec8101",
   "metadata": {},
   "outputs": [
    {
     "name": "stdout",
     "output_type": "stream",
     "text": [
      "+---+--------+----------+---------+-----------+----------+\n",
      "| id|PONumber|    PODate|vendor_id|InvoiceDate|   PayDate|\n",
      "+---+--------+----------+---------+-----------+----------+\n",
      "|  1|    8106|2015-12-20|        8| 2016-01-12|2016-02-05|\n",
      "|  2|    8107|2015-12-20|      119| 2016-01-05|2016-02-10|\n",
      "|  3|    8108|2015-12-20|       18| 2016-01-11|2016-02-10|\n",
      "|  4|    8109|2015-12-20|       22| 2016-01-12|2016-02-11|\n",
      "|  5|    8110|2015-12-20|       37| 2016-01-09|2016-02-19|\n",
      "|  6|    8111|2015-12-20|      103| 2016-01-10|2016-02-04|\n",
      "|  7|    8112|2015-12-20|       49| 2016-01-11|2016-02-06|\n",
      "|  8|    8113|2015-12-20|       77| 2016-01-08|2016-02-07|\n",
      "|  9|    8114|2015-12-20|       64| 2016-01-08|2016-02-14|\n",
      "| 10|    8115|2015-12-20|       98| 2016-01-10|2016-02-10|\n",
      "| 11|    8116|2015-12-20|       86| 2016-01-06|2016-02-07|\n",
      "| 12|    8117|2015-12-20|      114| 2016-01-11|2016-02-09|\n",
      "| 13|    8118|2015-12-20|       97| 2016-01-06|2016-02-20|\n",
      "| 14|    8119|2015-12-20|       78| 2016-01-11|2016-02-13|\n",
      "| 15|    8120|2015-12-20|       83| 2016-01-04|2016-02-06|\n",
      "| 16|    8121|2015-12-20|      108| 2016-01-08|2016-02-11|\n",
      "| 17|    8124|2015-12-21|        4| 2016-01-04|2016-02-16|\n",
      "| 18|    8125|2015-12-21|       34| 2016-01-08|2016-02-07|\n",
      "| 19|    8126|2015-12-21|      120| 2016-01-07|2016-02-21|\n",
      "| 20|    8128|2015-12-21|       96| 2016-01-09|2016-02-17|\n",
      "+---+--------+----------+---------+-----------+----------+\n",
      "only showing top 20 rows\n",
      "\n"
     ]
    }
   ],
   "source": [
    "purchase_order_cols = ['PONumber', 'PODate', 'VendorNumber', 'InvoiceDate', 'PayDate']\n",
    "_df_purchase_order = (\n",
    "    _df_raw['Purchases'].select(*purchase_order_cols)\n",
    "    .join(\n",
    "        _df_raw['InvoicePurchases'].select(*purchase_order_cols),\n",
    "        purchase_order_cols,\n",
    "        'outer'\n",
    "    )\n",
    "    .withColumn('VendorNumber', F.col('VendorNumber').cast('int'))\n",
    "    .join(\n",
    "        _df_vendor.select(F.col('id').alias('vendor_id'), 'VendorNumber'),\n",
    "        ['VendorNumber'],\n",
    "        'left'\n",
    "    )\n",
    "    .select(\n",
    "        F.col('PONumber').cast('int').alias('PONumber'),\n",
    "        F.col('PODate').cast('date').alias('PODate'),\n",
    "        'vendor_id',\n",
    "        F.col('InvoiceDate').cast('date').alias('InvoiceDate'),\n",
    "        F.col('PayDate').cast('date').alias('PayDate'),\n",
    "    )\n",
    "    .distinct()\n",
    "    .select(\n",
    "        F.row_number().over(Window.orderBy('PONumber', 'PODate', 'vendor_id', 'InvoiceDate', 'PayDate')).alias('id'),\n",
    "        'PONumber', \n",
    "        'PODate', \n",
    "        'vendor_id',\n",
    "        'InvoiceDate',\n",
    "        'PayDate',\n",
    "    )\n",
    ")\n",
    "_df_purchase_order.orderBy('id').show()"
   ]
  },
  {
   "cell_type": "markdown",
   "id": "37004cfa",
   "metadata": {},
   "source": [
    "#### _df_invoice"
   ]
  },
  {
   "cell_type": "code",
   "execution_count": 11,
   "id": "f98d3354",
   "metadata": {},
   "outputs": [],
   "source": [
    "_df_invoice = (\n",
    "    _df_raw['InvoicePurchases']\n",
    "    .join(_df_vendor.select(F.col('id').alias('vendor_id'),'VendorNumber'), ['VendorNumber'], 'left')\n",
    "    .join(_df_purchase_order.withColumnRenamed('id','purchase_order_id'),['PONumber', 'PODate', 'vendor_id', 'InvoiceDate', 'PayDate'])\n",
    "    .select(\n",
    "        F.row_number().over(Window.orderBy('purchase_order_id')).alias('id'),\n",
    "        'purchase_order_id',\n",
    "        F.col('Quantity').cast('int').alias('Quantity'),\n",
    "        F.col('Dollars').cast('float').alias('Dollars'),\n",
    "        F.col('Freight').cast('float').alias('Freight'),\n",
    "    )\n",
    ")"
   ]
  },
  {
   "cell_type": "markdown",
   "id": "884ceb02",
   "metadata": {},
   "source": [
    "#### _df_purchase"
   ]
  },
  {
   "cell_type": "code",
   "execution_count": 12,
   "id": "5e9a5d1f",
   "metadata": {},
   "outputs": [
    {
     "data": {
      "text/plain": [
       "DataFrame[id: int, purchase_order_id: int, inventory_id: int, ReceivingDate: date, PurchasePrice: float, Quantity: int, Dollars: float]"
      ]
     },
     "execution_count": 12,
     "metadata": {},
     "output_type": "execute_result"
    }
   ],
   "source": [
    "_df_purchase = (\n",
    "    _df_raw['Purchases']\n",
    "    .join(_df_vendor.select(F.col('id').alias('vendor_id'),'VendorNumber'), ['VendorNumber'], 'left')\n",
    "    .join(_df_inventory.select(F.col('id').alias('inventory_id'),'InventoryId',),['InventoryId'],'left')\n",
    "    .join(_df_purchase_order.withColumnRenamed('id','purchase_order_id'),['PONumber', 'PODate', 'vendor_id', 'InvoiceDate', 'PayDate'])\n",
    "    .select(\n",
    "        'purchase_order_id',\n",
    "        'inventory_id',\n",
    "        F.col('ReceivingDate').cast('date').alias('ReceivingDate'),\n",
    "        F.col('PurchasePrice').cast('float').alias('PurchasePrice'),\n",
    "        F.col('Quantity').cast('int').alias('Quantity'),\n",
    "        F.col('Dollars').cast('float').alias('Dollars'),\n",
    "    )\n",
    "    .select(\n",
    "        F.row_number().over(Window.orderBy('purchase_order_id','inventory_id')).alias('id'),\n",
    "        'purchase_order_id',\n",
    "        'inventory_id',\n",
    "        'ReceivingDate',\n",
    "        'PurchasePrice',\n",
    "        'Quantity',\n",
    "        'Dollars',\n",
    "    )\n",
    "    \n",
    ")\n",
    "_df_purchase.cache()"
   ]
  },
  {
   "cell_type": "markdown",
   "id": "e3dc5be9",
   "metadata": {},
   "source": [
    "#### _df_sale"
   ]
  },
  {
   "cell_type": "code",
   "execution_count": 13,
   "id": "94701b33",
   "metadata": {},
   "outputs": [],
   "source": [
    "_df_sale = (\n",
    "    _df_raw['Sales']\n",
    "    .withColumn('VendorNumber', F.col('VendorNo').cast('int'))\n",
    "    .join(_df_inventory.select(F.col('id').alias('inventory_id'),'InventoryId'), ['InventoryId'], 'left')\n",
    "    .join(_df_vendor.select(F.col('id').alias('vendor_id'),'VendorNumber'), ['VendorNumber'], 'left')\n",
    "    .select(\n",
    "        'inventory_id',\n",
    "        'vendor_id',\n",
    "        F.col('SalesDate').cast('date').alias('SalesDate'),\n",
    "        F.col('SalesQuantity').cast('int').alias('Quantity'),\n",
    "        F.col('SalesDollars').cast('float').alias('Dollars'),\n",
    "        F.col('SalesPrice').cast('float').alias('SalesPrice'),\n",
    "        F.col('ExciseTax').cast('float').alias('ExciseTax'),\n",
    "    )\n",
    "    .select(\n",
    "        F.row_number().over(Window.orderBy('inventory_id', 'vendor_id', 'SalesDate')).alias('id'),\n",
    "        'inventory_id',\n",
    "        'vendor_id',\n",
    "        'SalesDate',\n",
    "        'Quantity',\n",
    "        'Dollars',\n",
    "        'SalesPrice',\n",
    "        'ExciseTax',\n",
    "    )\n",
    ")"
   ]
  },
  {
   "cell_type": "markdown",
   "id": "c29b68bc",
   "metadata": {},
   "source": [
    "### EXTRA"
   ]
  },
  {
   "cell_type": "markdown",
   "id": "9e9fc69d",
   "metadata": {},
   "source": [
    "### ANOMALIES"
   ]
  },
  {
   "cell_type": "markdown",
   "id": "bffdc137",
   "metadata": {},
   "source": [
    "#### Vendors names aren't normalized"
   ]
  },
  {
   "cell_type": "code",
   "execution_count": 14,
   "id": "f0cbd7ac",
   "metadata": {},
   "outputs": [],
   "source": [
    "# unique(_df_raw['Purchases'], ['VendorNumber'], ['VendorName']).show(10,truncate=False)"
   ]
  },
  {
   "cell_type": "markdown",
   "id": "6e8e9683",
   "metadata": {},
   "source": [
    "#### Brand=Product. Description and size colums aren't normalized though"
   ]
  },
  {
   "cell_type": "code",
   "execution_count": 15,
   "id": "85cd8100",
   "metadata": {},
   "outputs": [],
   "source": [
    "# unique(_df_product_raw, ['Brand'], ['Description'],1).show(10, truncate=False)\n",
    "# unique(_df_product_raw, ['Brand'], ['Size'],1).show(10, truncate=False)"
   ]
  },
  {
   "cell_type": "code",
   "execution_count": 16,
   "id": "bbba589b",
   "metadata": {},
   "outputs": [],
   "source": [
    "# purchase_order_cols = ['PONumber', 'PODate', 'VendorNumber']\n",
    "# _df_purchase_orders = (\n",
    "#     _df_raw['Purchases'].select(*purchase_order_cols,F.lit(True).alias('is_purchase'))\n",
    "#     .join(\n",
    "#         _df_raw['InvoicePurchases'].select(*purchase_order_cols,F.lit(True).alias('is_invoice')),\n",
    "#         purchase_order_cols,\n",
    "#         'outer'\n",
    "#     )\n",
    "# )\n",
    "# _df_purchase_orders.show()"
   ]
  },
  {
   "cell_type": "markdown",
   "id": "af780cdb",
   "metadata": {},
   "source": [
    "#### Purchase Orders data is inconsistent. PONumber is not an identifier"
   ]
  },
  {
   "cell_type": "code",
   "execution_count": 17,
   "id": "320ed9fc",
   "metadata": {},
   "outputs": [],
   "source": [
    "# common_cols = [\n",
    "#     'PONumber', \n",
    "# ]\n",
    "# _df_temp = (\n",
    "#     _df_raw['Purchases']\n",
    "#     .withColumn('purchase', F.lit(True))\n",
    "#     .groupBy('PONumber', 'PODate', 'VendorNumber','InvoiceDate','PayDate', 'purchase').agg(F.sum('Quantity').cast('int').alias('Quantity'), F.round(F.sum('Dollars'),2).alias('Dollars'))\n",
    "#     .alias('p')\n",
    "#     .join(\n",
    "#         _df_raw['InvoicePurchases']\n",
    "#         .select('PONumber', 'PODate', 'VendorNumber','Quantity','Dollars','Approval','InvoiceDate','PayDate').withColumn('invoice', F.lit(True)).alias('i'),\n",
    "#         common_cols,\n",
    "#         'outer'\n",
    "#     )\n",
    "# )\n",
    "# print('matching:', _df_temp.where('purchase and invoice').count())\n",
    "# print('missing :', _df_temp.where('purchase is null or invoice is null').count())\n",
    "# print('matching PODate:', _df_temp.where('p.PODate = i.PODate').count())\n",
    "# print('matching VendorNumber:', _df_temp.where('p.VendorNumber = i.VendorNumber').count())\n",
    "# print('matching InvoiceDate:', _df_temp.where('p.InvoiceDate = i.InvoiceDate').count())\n",
    "# print('matching PayDate:', _df_temp.where('p.PayDate = i.PayDate').count())\n",
    "# print('matching PODate AND VendorNumber:', _df_temp.where('p.PODate = i.PODate AND p.VendorNumber = i.VendorNumber').count())\n",
    "# print('matching Dollars:', _df_temp.where('p.Dollars = i.Dollars').count())\n",
    "# print('matching Quantity:', _df_temp.where('p.Quantity = i.Quantity').count())\n",
    "\n",
    "# print('non-related rows')\n",
    "# _df_temp.where('p.PODate != i.PODate or p.VendorNumber != i.VendorNumber').orderBy('p.PONumber').show(10,truncate=False)\n",
    "# print('matching rows')\n",
    "# _df_temp.where('p.PODate == i.PODate and p.VendorNumber == i.VendorNumber').orderBy('p.PONumber').show(10,truncate=False)\n"
   ]
  },
  {
   "cell_type": "markdown",
   "id": "30a36365",
   "metadata": {},
   "source": [
    "### WRITE TO DISK"
   ]
  },
  {
   "cell_type": "code",
   "execution_count": 18,
   "id": "d47a52a9",
   "metadata": {},
   "outputs": [
    {
     "name": "stdout",
     "output_type": "stream",
     "text": [
      "Writing _df_product to parquet...\n",
      "Writing _df_vendor to parquet...\n",
      "Writing _df_city to parquet...\n",
      "Writing _df_store to parquet...\n",
      "Writing _df_inventory to parquet...\n",
      "Writing _df_purchase_order to parquet...\n",
      "Writing _df_invoice to parquet...\n",
      "Writing _df_purchase to parquet...\n",
      "Writing _df_sale to parquet...\n",
      "Finished!\n"
     ]
    }
   ],
   "source": [
    "dataframe_list = [\n",
    "    '_df_product',\n",
    "    '_df_vendor',\n",
    "    '_df_city',\n",
    "    '_df_store',\n",
    "    '_df_inventory',\n",
    "    '_df_purchase_order',\n",
    "    '_df_invoice',\n",
    "    '_df_purchase',\n",
    "    '_df_sale',\n",
    "]\n",
    "for df_name in dataframe_list:\n",
    "    print(f'Writing {df_name} to parquet...')\n",
    "    globals()[df_name].write.mode('overwrite').parquet(f'./notebooks/parquet/{df_name.replace(\"_df_\", \"\")}')\n",
    "print('Finished!')"
   ]
  }
 ],
 "metadata": {
  "kernelspec": {
   "display_name": "Python 3 (ipykernel)",
   "language": "python",
   "name": "python3"
  },
  "language_info": {
   "codemirror_mode": {
    "name": "ipython",
    "version": 3
   },
   "file_extension": ".py",
   "mimetype": "text/x-python",
   "name": "python",
   "nbconvert_exporter": "python",
   "pygments_lexer": "ipython3",
   "version": "3.11.6"
  }
 },
 "nbformat": 4,
 "nbformat_minor": 5
}
