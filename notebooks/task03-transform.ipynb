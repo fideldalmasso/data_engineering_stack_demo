{
 "cells": [
  {
   "cell_type": "code",
   "execution_count": null,
   "id": "a8b0e611",
   "metadata": {},
   "outputs": [
    {
     "name": "stdout",
     "output_type": "stream",
     "text": [
      "Processing BegInv from BegInvFINAL12312016csv.zip\n",
      "+-----------------+-----+------------+-----+--------------------+-----+------+-----+----------+\n",
      "|      InventoryId|Store|        City|Brand|         Description| Size|onHand|Price| startDate|\n",
      "+-----------------+-----+------------+-----+--------------------+-----+------+-----+----------+\n",
      "|1_HARDERSFIELD_58|    1|HARDERSFIELD|   58|Gekkeikan Black &...|750mL|     8|12.99|2016-01-01|\n",
      "|1_HARDERSFIELD_60|    1|HARDERSFIELD|   60|Canadian Club 185...|750mL|     7|10.99|2016-01-01|\n",
      "+-----------------+-----+------------+-----+--------------------+-----+------+-----+----------+\n",
      "\n",
      "Processing EndInv from EndInvFINAL12312016csv.zip\n",
      "+-----------------+-----+------------+-----+--------------------+-----+------+-----+----------+\n",
      "|      InventoryId|Store|        City|Brand|         Description| Size|onHand|Price|   endDate|\n",
      "+-----------------+-----+------------+-----+--------------------+-----+------+-----+----------+\n",
      "|1_HARDERSFIELD_58|    1|HARDERSFIELD|   58|Gekkeikan Black &...|750mL|    11|12.99|2016-12-31|\n",
      "|1_HARDERSFIELD_62|    1|HARDERSFIELD|   62|Herradura Silver ...|750mL|     7|36.99|2016-12-31|\n",
      "+-----------------+-----+------------+-----+--------------------+-----+------+-----+----------+\n",
      "\n",
      "Processing PurchasePrices from 2017PurchasePricesDeccsv.zip\n",
      "+-----+--------------------+-----+-----+------+--------------+-------------+------------+--------------------+\n",
      "|Brand|         Description|Price| Size|Volume|Classification|PurchasePrice|VendorNumber|          VendorName|\n",
      "+-----+--------------------+-----+-----+------+--------------+-------------+------------+--------------------+\n",
      "|   58|Gekkeikan Black &...|12.99|750mL|   750|             1|         9.28|        8320|SHAW ROSS INT L I...|\n",
      "|   62|Herradura Silver ...|36.99|750mL|   750|             1|        28.67|        1128|BROWN-FORMAN CORP...|\n",
      "+-----+--------------------+-----+-----+------+--------------+-------------+------------+--------------------+\n",
      "\n",
      "Processing Purchases from PurchasesFINAL12312016csv.zip\n",
      "+-----------------+-----+-----+--------------------+-----+------------+--------------------+--------+----------+-------------+-----------+----------+-------------+--------+-------+--------------+\n",
      "|      InventoryId|Store|Brand|         Description| Size|VendorNumber|          VendorName|PONumber|    PODate|ReceivingDate|InvoiceDate|   PayDate|PurchasePrice|Quantity|Dollars|Classification|\n",
      "+-----------------+-----+-----+--------------------+-----+------------+--------------------+--------+----------+-------------+-----------+----------+-------------+--------+-------+--------------+\n",
      "|69_MOUNTMEND_8412|   69| 8412|Tequila Ocho Plat...|750mL|         105|ALTAMAR BRANDS LL...|    8124|2015-12-21|   2016-01-02| 2016-01-04|2016-02-16|        35.71|       6| 214.26|             1|\n",
      "| 30_CULCHETH_5255|   30| 5255|TGI Fridays Ultim...|1.75L|        4466|AMERICAN VINTAGE ...|    8137|2015-12-22|   2016-01-01| 2016-01-07|2016-02-21|         9.35|       4|   37.4|             1|\n",
      "+-----------------+-----+-----+--------------------+-----+------------+--------------------+--------+----------+-------------+-----------+----------+-------------+--------+-------+--------------+\n",
      "\n",
      "Processing Sales from SalesFINAL12312016csv.zip\n"
     ]
    }
   ],
   "source": [
    "import zipfile\n",
    "import pandas as pd\n",
    "import re\n",
    "import os\n",
    "from pyspark.sql import SparkSession\n",
    "\n",
    "# CONSTANTS\n",
    "INPUT_PATH = './notebooks/csv/'\n",
    "\n",
    "spark=SparkSession.builder.appName(\"zip reader\").getOrCreate()\n",
    "arr = os.listdir(INPUT_PATH)\n",
    "dfs={}\n",
    "for file in arr:\n",
    "    res = re.search(rf'(.+)-(.+\\.zip)', file)\n",
    "    table_name = res.group(1)\n",
    "    file_name = res.group(2)\n",
    "    print(f'Processing {table_name} from {file_name}')\n",
    "    dfs[table_name]=spark.createDataFrame(pd.read_csv(rf'{INPUT_PATH}/{file}',compression='zip', sep=','))\n",
    "    dfs[table_name].limit(2).show()\n",
    "\n",
    "# dfs['PurchasePrices'].select('brand','description').show()"
   ]
  }
 ],
 "metadata": {
  "kernelspec": {
   "display_name": "Python 3 (ipykernel)",
   "language": "python",
   "name": "python3"
  },
  "language_info": {
   "codemirror_mode": {
    "name": "ipython",
    "version": 3
   },
   "file_extension": ".py",
   "mimetype": "text/x-python",
   "name": "python",
   "nbconvert_exporter": "python",
   "pygments_lexer": "ipython3",
   "version": "3.11.6"
  }
 },
 "nbformat": 4,
 "nbformat_minor": 5
}
