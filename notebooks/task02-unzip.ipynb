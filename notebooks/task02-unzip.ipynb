{
 "cells": [
  {
   "cell_type": "code",
   "execution_count": 9,
   "id": "8736eb98",
   "metadata": {},
   "outputs": [
    {
     "name": "stdout",
     "output_type": "stream",
     "text": [
      "Skipping BegInv-BegInvFINAL12312016csv.zip as it already exists in ./notebooks/csv/\n",
      "Skipping EndInv-EndInvFINAL12312016csv.zip as it already exists in ./notebooks/csv/\n",
      "Skipping PurchasePrices-2017PurchasePricesDeccsv.zip as it already exists in ./notebooks/csv/\n",
      "Skipping Purchases-PurchasesFINAL12312016csv.zip as it already exists in ./notebooks/csv/\n",
      "Skipping Sales-SalesFINAL12312016csv.zip as it already exists in ./notebooks/csv/\n",
      "Skipping VendorInvoices-VendorInvoices12312016csv.zip as it already exists in ./notebooks/csv/\n"
     ]
    }
   ],
   "source": [
    "import zipfile\n",
    "import os\n",
    "\n",
    "# CONSTANTS\n",
    "INPUT_PATH = './notebooks/zip/'\n",
    "OUTPUT_PATH = './notebooks/csv/'\n",
    "\n",
    "existing_files = os.listdir(OUTPUT_PATH)\n",
    "files = os.listdir(INPUT_PATH)\n",
    "for file in files:\n",
    "    file_path = os.path.join(INPUT_PATH, file)\n",
    "    if file.endswith('.zip'):        \n",
    "        with zipfile.ZipFile(file_path, 'r') as zip_ref:\n",
    "            new_file= zip_ref.infolist()[0].filename\n",
    "            if new_file in existing_files:\n",
    "                print(f\"Skipping {file} as it already exists in {OUTPUT_PATH}\")\n",
    "                continue\n",
    "            print(f\"Extracting {file} to {OUTPUT_PATH}\")\n",
    "            zip_ref.extractall(OUTPUT_PATH)\n",
    "        "
   ]
  }
 ],
 "metadata": {
  "kernelspec": {
   "display_name": "Python 3 (ipykernel)",
   "language": "python",
   "name": "python3"
  },
  "language_info": {
   "codemirror_mode": {
    "name": "ipython",
    "version": 3
   },
   "file_extension": ".py",
   "mimetype": "text/x-python",
   "name": "python",
   "nbconvert_exporter": "python",
   "pygments_lexer": "ipython3",
   "version": "3.13.5"
  }
 },
 "nbformat": 4,
 "nbformat_minor": 5
}
