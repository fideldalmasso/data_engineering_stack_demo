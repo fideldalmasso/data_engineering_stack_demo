{
 "cells": [
  {
   "cell_type": "code",
   "execution_count": 1,
   "id": "8736eb98",
   "metadata": {},
   "outputs": [
    {
     "name": "stdout",
     "output_type": "stream",
     "text": [
      "Extracting 2017PurchasePricesDeccsv.zip to ./notebooks/csv/\n",
      "Skipping BegInvFINAL12312016csv.zip as it already exists in ./notebooks/csv/\n",
      "Skipping EndInvFINAL12312016csv.zip as it already exists in ./notebooks/csv/\n",
      "Skipping PurchasesFINAL12312016csv.zip as it already exists in ./notebooks/csv/\n",
      "Skipping SalesFINAL12312016csv.zip as it already exists in ./notebooks/csv/\n",
      "Skipping VendorInvoices12312016csv.zip as it already exists in ./notebooks/csv/\n"
     ]
    }
   ],
   "source": [
    "import zipfile\n",
    "import os\n",
    "\n",
    "# CONSTANTS\n",
    "INPUT_PATH = './notebooks/zip/'\n",
    "OUTPUT_PATH = './notebooks/csv/'\n",
    "\n",
    "existing_files = os.listdir(OUTPUT_PATH)\n",
    "files = os.listdir(INPUT_PATH)\n",
    "for file in files:\n",
    "    file_path = os.path.join(INPUT_PATH, file)\n",
    "    if file.endswith('.zip'):        \n",
    "        with zipfile.ZipFile(file_path, 'r') as zip_ref:\n",
    "            new_file= zip_ref.infolist()[0].filename\n",
    "            if new_file in existing_files:\n",
    "                print(f\"Skipping {file} as it already exists in {OUTPUT_PATH}\")\n",
    "                continue\n",
    "            print(f\"Extracting {file} to {OUTPUT_PATH}\")\n",
    "            zip_ref.extractall(OUTPUT_PATH)\n",
    "        "
   ]
  }
 ],
 "metadata": {
  "kernelspec": {
   "display_name": "Python 3 (ipykernel)",
   "language": "python",
   "name": "python3"
  }
 },
 "nbformat": 4,
 "nbformat_minor": 5
}
