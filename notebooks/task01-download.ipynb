{
 "cells": [
  {
   "cell_type": "code",
   "execution_count": null,
   "id": "f81cacec-19c3-4ec7-a482-f6d48f5fbd88",
   "metadata": {},
   "outputs": [
    {
     "name": "stdout",
     "output_type": "stream",
     "text": [
      "Skipping PurchasesFINAL12312016csv.zip, already exists.\n",
      "Skipping SalesFINAL12312016csv.zip, already exists.\n",
      "Skipping BegInvFINAL12312016csv.zip, already exists.\n",
      "Skipping EndInvFINAL12312016csv.zip, already exists.\n",
      "Skipping 2017PurchasePricesDeccsv.zip, already exists.\n",
      "Skipping VendorInvoices12312016csv.zip, already exists.\n"
     ]
    }
   ],
   "source": [
    "import requests\n",
    "import re\n",
    "import os\n",
    "\n",
    "# CONSTANTS\n",
    "URL ='https://www.pwc.com/us/en/careers/university-relations/data-and-analytics-case-studies-files.html'\n",
    "URL_DOMAIN = 'https://www.pwc.com'\n",
    "URL_PATH = '/us/en/careers/university_relations/data_analytics_cases_studies'\n",
    "OUTPUT_PATH = './notebooks/zip'\n",
    "TABLE_NAMES = [\n",
    "    'Purchases',\n",
    "    'Sales',\n",
    "    'BegInv',\n",
    "    'EndInv',\n",
    "    'PurchasePrices',\n",
    "    'VendorInvoices',\n",
    "]\n",
    "\n",
    "\n",
    "response = requests.get(URL)\n",
    "download_links = []\n",
    "for table in TABLE_NAMES:\n",
    "    # example: href=\"/us/en/careers/university_relations/data_analytics_cases_studies/SalesFINAL12312016csv.zip\"\n",
    "    download_link = re.search(rf'href=\"({URL_PATH}/.*{table}.*\\.zip)\"', response.text)\n",
    "    download_links.append(f'{URL_DOMAIN}/{download_link.group(1)}') if download_link else None\n",
    "\n",
    "\n",
    "arr = os.listdir(OUTPUT_PATH)\n",
    "existing_files = []\n",
    "for file in arr:\n",
    "    existing_files.append(file)\n",
    "\n",
    "for link in download_links:\n",
    "    filename=link.split('/')[-1]\n",
    "    if filename in existing_files:\n",
    "        print(f'Skipping {filename}, already exists.')\n",
    "        continue\n",
    "    response = requests.get(link)\n",
    "    print(f'Downloading {filename}...')\n",
    "    with open(f'{OUTPUT_PATH}/{filename}', 'wb+') as file:\n",
    "        file.write(response.content)\n",
    "\n",
    "\n",
    "    "
   ]
  }
 ],
 "metadata": {
  "kernelspec": {
   "display_name": "Python 3 (ipykernel)",
   "language": "python",
   "name": "python3"
  }
 },
 "nbformat": 4,
 "nbformat_minor": 5
}
