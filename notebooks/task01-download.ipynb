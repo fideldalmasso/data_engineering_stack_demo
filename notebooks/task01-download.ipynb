{
 "cells": [
  {
   "cell_type": "code",
   "execution_count": 1,
   "id": "f81cacec-19c3-4ec7-a482-f6d48f5fbd88",
   "metadata": {},
   "outputs": [
    {
     "name": "stdout",
     "output_type": "stream",
     "text": [
      "Skipping Purchases, already exists.\n",
      "Skipping Sales, already exists.\n",
      "Skipping BegInv, already exists.\n",
      "Skipping EndInv, already exists.\n",
      "Skipping PurchasePrices, already exists.\n",
      "Skipping VendorInvoices, already exists.\n"
     ]
    }
   ],
   "source": [
    "import requests\n",
    "import re\n",
    "import os\n",
    "\n",
    "# CONSTANTS\n",
    "URL ='https://www.pwc.com/us/en/careers/university-relations/data-and-analytics-case-studies-files.html'\n",
    "URL_DOMAIN = 'https://www.pwc.com'\n",
    "URL_PATH = '/us/en/careers/university_relations/data_analytics_cases_studies'\n",
    "OUTPUT_PATH = './notebooks/zip'\n",
    "TABLE_NAMES = [\n",
    "    'Purchases',\n",
    "    'Sales',\n",
    "    'BegInv',\n",
    "    'EndInv',\n",
    "    'PurchasePrices',\n",
    "    'VendorInvoices',\n",
    "]\n",
    "\n",
    "\n",
    "response = requests.get(URL)\n",
    "download_links = {}\n",
    "for table in TABLE_NAMES:\n",
    "    # example: href=\"/us/en/careers/university_relations/data_analytics_cases_studies/SalesFINAL12312016csv.zip\"\n",
    "    download_link = re.search(rf'href=\"({URL_PATH}/.*{table}.*\\.zip)\"', response.text)\n",
    "    download_links[table]= f'{URL_DOMAIN}/{download_link.group(1)}' if download_link else None\n",
    "\n",
    "\n",
    "arr = os.listdir(OUTPUT_PATH)\n",
    "existing_files = []\n",
    "for file in arr:\n",
    "    res = re.search(rf'(.+)-(.+\\.zip)', file)\n",
    "    table_name = res.group(1)\n",
    "    existing_files.append(table_name)\n",
    "\n",
    "\n",
    "for table,link in download_links.items():\n",
    "    if table in existing_files:\n",
    "        print(f'Skipping {table}, already exists.')\n",
    "        continue\n",
    "    response = requests.get(link)\n",
    "    full_filename = link.split('/')[-1]\n",
    "    print(f'Downloading {table}')\n",
    "    with open(f'{OUTPUT_PATH}/{table}-{full_filename}', 'wb+') as file:\n",
    "        file.write(response.content)\n",
    "\n",
    "\n",
    "    "
   ]
  }
 ],
 "metadata": {
  "kernelspec": {
   "display_name": "Python 3 (ipykernel)",
   "language": "python",
   "name": "python3"
  }
 },
 "nbformat": 4,
 "nbformat_minor": 5
}
