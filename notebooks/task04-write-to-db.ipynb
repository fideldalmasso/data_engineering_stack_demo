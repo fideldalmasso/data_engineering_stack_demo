{
 "cells": [
  {
   "cell_type": "code",
   "execution_count": 1,
   "id": "0124305f",
   "metadata": {},
   "outputs": [
    {
     "name": "stdout",
     "output_type": "stream",
     "text": [
      "Writing city to PostgreSQL database...\n",
      "Writing inventory to PostgreSQL database...\n",
      "Writing invoice to PostgreSQL database...\n",
      "Writing product to PostgreSQL database...\n",
      "Writing purchase to PostgreSQL database...\n",
      "Writing purchase_order to PostgreSQL database...\n",
      "Writing sale to PostgreSQL database...\n",
      "Writing store to PostgreSQL database...\n",
      "Writing vendor to PostgreSQL database...\n",
      "Finished!\n"
     ]
    }
   ],
   "source": [
    "import re\n",
    "import os\n",
    "from pyspark.sql import SparkSession\n",
    "from pyspark.sql import DataFrame\n",
    "import pyspark.sql.functions as F\n",
    "from pyspark.sql import Window\n",
    "from functools import reduce\n",
    "\n",
    "# CONSTANTS\n",
    "HOST = 'output-db'\n",
    "PORT = 5433\n",
    "DATABASE = 'postgres'\n",
    "USER = 'postgres'\n",
    "PASSWORD = '1234'\n",
    "\n",
    "INPUT_PATH = './notebooks/parquet/'\n",
    "TABLE_NAMES = [\n",
    "    'city',\n",
    "    'inventory',\n",
    "    'invoice',\n",
    "    'product',\n",
    "    'purchase',\n",
    "    'purchase_order',\n",
    "    'sale',\n",
    "    'store',\n",
    "    'vendor',\n",
    "]\n",
    "\n",
    "spark= (\n",
    "    SparkSession.builder.appName(\"write-to-db\")\n",
    "    .config(\"spark.jars\", \"/usr/local/spark/jars/postgresql.jar\")    \n",
    "    .getOrCreate()\n",
    ")\n",
    "\n",
    "_df_raw={}\n",
    "for table_name in TABLE_NAMES:\n",
    "    filename=rf'{INPUT_PATH}/{table_name}'\n",
    "    _df_raw[table_name]=spark.read.format('parquet').option(\"header\",True).load(filename)\n",
    "    jdbc_url = f'jdbc:postgresql://{HOST}:{PORT}/{DATABASE}'\n",
    "    properties = {\n",
    "        'user': f'{USER}',\n",
    "        'password': f'{PASSWORD}',\n",
    "        'driver': 'org.postgresql.Driver'\n",
    "    }\n",
    "\n",
    "    print(f'Writing {table_name} to PostgreSQL database...')\n",
    "    _df_raw[table_name].write.jdbc(url=jdbc_url, table=table_name, mode=\"overwrite\", properties=properties)\n",
    "print('Finished!')\n"
   ]
  },
  {
   "cell_type": "code",
   "execution_count": 2,
   "id": "7cab64fd",
   "metadata": {},
   "outputs": [],
   "source": [
    "# TODO: use psycopg2 to add PRIMARY KEY constraints"
   ]
  }
 ],
 "metadata": {
  "kernelspec": {
   "display_name": "Python 3 (ipykernel)",
   "language": "python",
   "name": "python3"
  },
  "language_info": {
   "codemirror_mode": {
    "name": "ipython",
    "version": 3
   },
   "file_extension": ".py",
   "mimetype": "text/x-python",
   "name": "python",
   "nbconvert_exporter": "python",
   "pygments_lexer": "ipython3",
   "version": "3.11.6"
  }
 },
 "nbformat": 4,
 "nbformat_minor": 5
}
