{
 "cells": [
  {
   "cell_type": "code",
   "execution_count": null,
   "id": "29376194",
   "metadata": {},
   "outputs": [],
   "source": [
    "import psycopg2\n",
    "from psycopg2.extensions import ISOLATION_LEVEL_AUTOCOMMIT\n",
    "from pyspark.sql import SparkSession\n",
    "\n",
    "# CONSTANTS\n",
    "DB_NAME = 'taxi_industry'\n",
    "DB_USER = 'postgres'\n",
    "DB_PASSWORD = '1234'\n",
    "DB_HOST = 'output-db'\n",
    "DB_PORT = 5433\n",
    "\n",
    "INPUT_PATH = 'storage/taxi_industry/parquet_processed'\n",
    "\n",
    "TABLE_PROPERTIES = [ # name, [PK], [FK]\n",
    "    ('trip', ['id'], [\n",
    "        ('VendorID', 'vendor(\"VendorID\")'),\n",
    "        ('RatecodeID', 'rate_code(\"RatecodeID\")'),\n",
    "        ('PULocationID', 'taxi_zone(\"LocationID\")'),\n",
    "        ('DOLocationID', 'taxi_zone(\"LocationID\")'),\n",
    "        ('payment_type', 'payment_type(payment_type)')\n",
    "    ]),\n",
    "    ('taxi_zone', ['\"LocationID\"'], []),\n",
    "    ('vendor', ['\"VendorID\"'], []),\n",
    "    ('rate_code', ['\"RatecodeID\"'], []),\n",
    "    ('payment_type', ['\"payment_type\"'], []),\n",
    "]"
   ]
  },
  {
   "cell_type": "code",
   "execution_count": 6,
   "id": "a9f5e832",
   "metadata": {},
   "outputs": [
    {
     "name": "stdout",
     "output_type": "stream",
     "text": [
      "Database 'taxi_industry' already exists.\n"
     ]
    }
   ],
   "source": [
    "# Create the drink_distribution_company database if it doesn't exist\n",
    "try:\n",
    "    conn = psycopg2.connect(dbname='postgres', user=DB_USER, password=DB_PASSWORD, host=DB_HOST, port=DB_PORT)\n",
    "    conn.set_isolation_level(ISOLATION_LEVEL_AUTOCOMMIT)\n",
    "    cur = conn.cursor()\n",
    "    cur.execute(f\"SELECT 1 FROM pg_database WHERE datname = '{DB_NAME}'\")\n",
    "    exists = cur.fetchone()\n",
    "    if not exists:\n",
    "        cur.execute(f'CREATE DATABASE {DB_NAME}')\n",
    "        print(f\"Database '{DB_NAME}' created.\")\n",
    "    else:\n",
    "        print(f\"Database '{DB_NAME}' already exists.\")\n",
    "    cur.close()\n",
    "    conn.close()\n",
    "except Exception as e:\n",
    "    print(f\"Error creating database: {e}\")"
   ]
  },
  {
   "cell_type": "code",
   "execution_count": 14,
   "id": "a6019e44",
   "metadata": {},
   "outputs": [
    {
     "name": "stdout",
     "output_type": "stream",
     "text": [
      "Writing trip to PostgreSQL database...\n",
      "Finished!\n"
     ]
    }
   ],
   "source": [
    "spark= (\n",
    "    SparkSession.builder.appName(\"write-to-db\")\n",
    "    .config(\"spark.jars\", \"/usr/local/spark/jars/postgresql.jar\")\n",
    "    .getOrCreate()\n",
    ")\n",
    "\n",
    "_df_raw={}\n",
    "for table_name,_,_ in TABLE_PROPERTIES:\n",
    "    filename=rf'{INPUT_PATH}/{table_name}'\n",
    "    _df_raw[table_name]=spark.read.format('parquet').option(\"header\",True).load(filename)\n",
    "    jdbc_url = f'jdbc:postgresql://{DB_HOST}:{DB_PORT}/{DB_NAME}'\n",
    "    properties = {\n",
    "        'user': f'{DB_USER}',\n",
    "        'password': f'{DB_PASSWORD}',\n",
    "        'driver': 'org.postgresql.Driver'\n",
    "    }\n",
    "\n",
    "    print(f'Writing {table_name} to PostgreSQL database...')\n",
    "    _df_raw[table_name].write.jdbc(url=jdbc_url, table=table_name, mode=\"overwrite\", properties=properties)\n",
    "print('Finished!')"
   ]
  },
  {
   "cell_type": "code",
   "execution_count": 4,
   "id": "87bb360a",
   "metadata": {},
   "outputs": [
    {
     "name": "stdout",
     "output_type": "stream",
     "text": [
      "ALTER TABLE \"trip\" ADD CONSTRAINT trip_pkey PRIMARY KEY (id)\n",
      "ALTER TABLE \"taxi_zone\" ADD CONSTRAINT taxi_zone_pkey PRIMARY KEY (\"LocationID\")\n",
      "ALTER TABLE \"vendor\" ADD CONSTRAINT vendor_pkey PRIMARY KEY (\"VendorID\")\n",
      "ALTER TABLE \"rate_code\" ADD CONSTRAINT rate_code_pkey PRIMARY KEY (\"RatecodeID\")\n",
      "ALTER TABLE \"payment_type\" ADD CONSTRAINT payment_type_pkey PRIMARY KEY (\"payment_type\")\n",
      "ALTER TABLE \"trip\" ADD CONSTRAINT trip_VendorID_fkey FOREIGN KEY (\"VendorID\") REFERENCES vendor(\"VendorID\")\n",
      "ALTER TABLE \"trip\" ADD CONSTRAINT trip_RatecodeID_fkey FOREIGN KEY (\"RatecodeID\") REFERENCES rate_code(\"RatecodeID\")\n",
      "ALTER TABLE \"trip\" ADD CONSTRAINT trip_PULocationID_fkey FOREIGN KEY (\"PULocationID\") REFERENCES taxi_zone(\"LocationID\")\n",
      "ALTER TABLE \"trip\" ADD CONSTRAINT trip_DOLocationID_fkey FOREIGN KEY (\"DOLocationID\") REFERENCES taxi_zone(\"LocationID\")\n",
      "ALTER TABLE \"trip\" ADD CONSTRAINT trip_payment_type_fkey FOREIGN KEY (\"payment_type\") REFERENCES payment_type(payment_type)\n"
     ]
    }
   ],
   "source": [
    "# use psycopg2 to add PRIMARY KEY and FOREIGN KEY constraints\n",
    "conn = psycopg2.connect(dbname=DB_NAME, user=DB_USER, password=DB_PASSWORD, host=DB_HOST, port=DB_PORT)\n",
    "cur = conn.cursor()\n",
    "for t, pk, _ in TABLE_PROPERTIES:\n",
    "    if pk:\n",
    "        n = f\"{t}_pkey\"\n",
    "        cur.execute(\"SELECT 1 FROM information_schema.table_constraints WHERE table_name=%s AND constraint_name=%s\", (t, n))\n",
    "        if not cur.fetchone():\n",
    "            pk_constraint_query = f'ALTER TABLE \"{t}\" ADD CONSTRAINT {n} PRIMARY KEY ({\", \".join(pk)})'\n",
    "            print(pk_constraint_query)\n",
    "            cur.execute(pk_constraint_query)\n",
    "    \n",
    "for t, _, fks in TABLE_PROPERTIES:\n",
    "    for c, r in fks:\n",
    "        n = f\"{t}_{c}_fkey\"\n",
    "        cur.execute(\"SELECT 1 FROM information_schema.table_constraints WHERE table_name=%s AND constraint_name=%s\", (t, n))\n",
    "        if not cur.fetchone():\n",
    "            # Ensure column names are quoted for case sensitivity\n",
    "            fk_constraint_query = f'ALTER TABLE \"{t}\" ADD CONSTRAINT {n} FOREIGN KEY (\"{c}\") REFERENCES {r}'\n",
    "            print(fk_constraint_query)\n",
    "            cur.execute(fk_constraint_query)\n",
    "conn.commit(); cur.close(); conn.close()"
   ]
  }
 ],
 "metadata": {
  "kernelspec": {
   "display_name": "Python 3 (ipykernel)",
   "language": "python",
   "name": "python3"
  },
  "language_info": {
   "codemirror_mode": {
    "name": "ipython",
    "version": 3
   },
   "file_extension": ".py",
   "mimetype": "text/x-python",
   "name": "python",
   "nbconvert_exporter": "python",
   "pygments_lexer": "ipython3",
   "version": "3.11.6"
  }
 },
 "nbformat": 4,
 "nbformat_minor": 5
}
