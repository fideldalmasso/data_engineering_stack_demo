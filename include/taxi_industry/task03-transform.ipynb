{
 "cells": [
  {
   "cell_type": "markdown",
   "id": "feec555d",
   "metadata": {},
   "source": [
    "### SETUP & CONSTANTS"
   ]
  },
  {
   "cell_type": "code",
   "execution_count": 14,
   "id": "9bf0b4ca",
   "metadata": {},
   "outputs": [],
   "source": [
    "import re\n",
    "import os\n",
    "from pyspark.sql import SparkSession\n",
    "from pyspark.sql import DataFrame\n",
    "import pyspark.sql.functions as F\n",
    "from pyspark.sql import Window\n",
    "from functools import reduce\n",
    "from collections import defaultdict\n",
    "import json\n",
    "\n",
    "# CONSTANTS\n",
    "PARQUET_INPUT_PATH = 'storage/taxi_industry/parquet'\n",
    "CSV_INPUT_PATH = 'storage/taxi_industry/csv'\n",
    "OUTPUT_PATH = 'storage/taxi_industry/parquet_processed'\n",
    "TABLE_NAMES = [\n",
    "    'yellow_tripdata',\n",
    "    'green_tripdata',\n",
    "]"
   ]
  },
  {
   "cell_type": "code",
   "execution_count": 15,
   "id": "16f09cc6",
   "metadata": {},
   "outputs": [],
   "source": [
    "def unique(df, group_by, select_cols,min=1):\n",
    "    return df.groupBy(*group_by).agg(F.collect_set(F.struct(*select_cols)).alias('objs')).where(F.array_size('objs')>min)"
   ]
  },
  {
   "cell_type": "code",
   "execution_count": 16,
   "id": "d407071e",
   "metadata": {},
   "outputs": [],
   "source": [
    "spark= (\n",
    "    SparkSession.builder.appName('transform')\n",
    "    .getOrCreate()\n",
    ")"
   ]
  },
  {
   "cell_type": "markdown",
   "id": "15bb767d",
   "metadata": {},
   "source": [
    "### GENERIC PARQUET LOAD"
   ]
  },
  {
   "cell_type": "code",
   "execution_count": 17,
   "id": "8ab81337",
   "metadata": {},
   "outputs": [
    {
     "name": "stdout",
     "output_type": "stream",
     "text": [
      "yellow_tripdata:\n",
      "df_raw[table_name].count()=19760424\n",
      "+--------+--------------------+---------------------+---------------+-------------+----------+------------------+------------+------------+------------+-----------+-----+-------+----------+------------+---------------------+------------+--------------------+-----------+------------------+\n",
      "|VendorID|tpep_pickup_datetime|tpep_dropoff_datetime|passenger_count|trip_distance|RatecodeID|store_and_fwd_flag|PULocationID|DOLocationID|payment_type|fare_amount|extra|mta_tax|tip_amount|tolls_amount|improvement_surcharge|total_amount|congestion_surcharge|Airport_fee|cbd_congestion_fee|\n",
      "+--------+--------------------+---------------------+---------------+-------------+----------+------------------+------------+------------+------------+-----------+-----+-------+----------+------------+---------------------+------------+--------------------+-----------+------------------+\n",
      "|       1| 2025-05-01 00:07:06|  2025-05-01 00:24:15|              1|          3.7|         1|                 N|         140|         202|           1|       18.4| 4.25|    0.5|      4.85|         0.0|                  1.0|        29.0|                 2.5|        0.0|              0.75|\n",
      "|       2| 2025-05-01 00:07:44|  2025-05-01 00:14:27|              1|         1.03|         1|                 N|         234|         161|           1|        8.6|  1.0|    0.5|       4.3|         0.0|                  1.0|       18.65|                 2.5|        0.0|              0.75|\n",
      "+--------+--------------------+---------------------+---------------+-------------+----------+------------------+------------+------------+------------+-----------+-----+-------+----------+------------+---------------------+------------+--------------------+-----------+------------------+\n",
      "\n",
      "green_tripdata:\n",
      "df_raw[table_name].count()=254017\n",
      "+--------+--------------------+---------------------+------------------+----------+------------+------------+---------------+-------------+-----------+-----+-------+----------+------------+---------+---------------------+------------+------------+---------+--------------------+------------------+\n",
      "|VendorID|lpep_pickup_datetime|lpep_dropoff_datetime|store_and_fwd_flag|RatecodeID|PULocationID|DOLocationID|passenger_count|trip_distance|fare_amount|extra|mta_tax|tip_amount|tolls_amount|ehail_fee|improvement_surcharge|total_amount|payment_type|trip_type|congestion_surcharge|cbd_congestion_fee|\n",
      "+--------+--------------------+---------------------+------------------+----------+------------+------------+---------------+-------------+-----------+-----+-------+----------+------------+---------+---------------------+------------+------------+---------+--------------------+------------------+\n",
      "|       2| 2025-05-01 00:17:04|  2025-05-01 00:56:06|                 N|         1|          25|         216|              1|         9.34|       44.3|  1.0|    0.5|       0.0|         0.0|     NULL|                  1.0|        46.8|           1|        1|                 0.0|               0.0|\n",
      "|       2| 2025-05-01 00:56:16|  2025-05-01 01:10:26|                 N|         1|         160|         129|              1|         2.95|       16.3|  1.0|    0.5|       0.0|         0.0|     NULL|                  1.0|        18.8|           2|        1|                 0.0|               0.0|\n",
      "+--------+--------------------+---------------------+------------------+----------+------------+------------+---------------+-------------+-----------+-----+-------+----------+------------+---------+---------------------+------------+------------+---------+--------------------+------------------+\n",
      "\n"
     ]
    }
   ],
   "source": [
    "df_raw={}\n",
    "for table_name in TABLE_NAMES:\n",
    "    df_raw[table_name] = spark.read.parquet(f'{PARQUET_INPUT_PATH}/{table_name}_2025*.parquet')\n",
    "    print(f'{table_name}:')\n",
    "    print(f'{df_raw[table_name].count()=}')\n",
    "    df_raw[table_name].limit(2).show()\n"
   ]
  },
  {
   "cell_type": "markdown",
   "id": "68633c87",
   "metadata": {},
   "source": [
    "### COLUMN INSPECTION"
   ]
  },
  {
   "cell_type": "code",
   "execution_count": 18,
   "id": "50b6d0f5",
   "metadata": {},
   "outputs": [
    {
     "name": "stdout",
     "output_type": "stream",
     "text": [
      "shared columns:\n",
      "['VendorID', 'passenger_count', 'trip_distance', 'RatecodeID', 'store_and_fwd_flag', 'PULocationID', 'DOLocationID', 'payment_type', 'fare_amount', 'extra', 'mta_tax', 'tip_amount', 'tolls_amount', 'improvement_surcharge', 'total_amount', 'congestion_surcharge', 'cbd_congestion_fee']\n",
      "unique columns:\n",
      "[('tpep_pickup_datetime', ['yellow']), ('tpep_dropoff_datetime', ['yellow']), ('Airport_fee', ['yellow']), ('lpep_pickup_datetime', ['green']), ('lpep_dropoff_datetime', ['green']), ('ehail_fee', ['green']), ('trip_type', ['green'])]\n"
     ]
    }
   ],
   "source": [
    "columns = defaultdict(list)\n",
    "for c in df_raw['yellow_tripdata'].columns:\n",
    "    columns[c].append('yellow')\n",
    "\n",
    "for c in df_raw['green_tripdata'].columns:\n",
    "    columns[c].append('green')\n",
    "\n",
    "print('shared columns:')\n",
    "print([c for c in columns.keys() if len(columns[c]) == 2])\n",
    "print('unique columns:')\n",
    "print([(k,v) for k,v in columns.items() if len(v) == 1])\n"
   ]
  },
  {
   "cell_type": "markdown",
   "id": "ff6063ff",
   "metadata": {},
   "source": [
    "### TABLES"
   ]
  },
  {
   "cell_type": "markdown",
   "id": "3fa087f5",
   "metadata": {},
   "source": [
    "#### df_trip"
   ]
  },
  {
   "cell_type": "code",
   "execution_count": 19,
   "id": "6736f401",
   "metadata": {},
   "outputs": [
    {
     "name": "stdout",
     "output_type": "stream",
     "text": [
      "+---------+--------+---------------+-------------+----------+------------------+------------+------------+------------+-----------+-----+-------+----------+------------+---------------------+--------------------+------------------+------------+-------------------+-------------------+-----------+--------+---------------+-----------------+-----------+-----------+---------------+\n",
      "|taxi_type|VendorID|passenger_count|trip_distance|RatecodeID|store_and_fwd_flag|PULocationID|DOLocationID|payment_type|fare_amount|extra|mta_tax|tip_amount|tolls_amount|improvement_surcharge|congestion_surcharge|cbd_congestion_fee|total_amount|    pickup_datetime|   dropoff_datetime|         id|duration|charge_per_mile|charge_per_minute|pickup_hour|day_of_week|non_fare_amount|\n",
      "+---------+--------+---------------+-------------+----------+------------------+------------+------------+------------+-----------+-----+-------+----------+------------+---------------------+--------------------+------------------+------------+-------------------+-------------------+-----------+--------+---------------+-----------------+-----------+-----------+---------------+\n",
      "|   yellow|       2|              1|          0.6|         5|                 N|         226|         260|           3|      977.0|  0.0|    0.0|       0.0|       14.06|                  1.0|                 0.0|               0.0|      992.06|2025-03-18 21:06:34|2025-03-18 21:07:59| 8591800053|    1.42|        1653.43|           698.63|         21|          3|          15.06|\n",
      "|   yellow|       2|              1|         0.35|         5|                 N|         230|          48|           4|      700.0|  0.0|    0.0|       0.0|         0.0|                  1.0|                 2.5|              0.75|      704.25|2025-01-14 02:08:52|2025-01-14 02:10:20|34360898821|    1.47|        2012.14|           479.08|          2|          3|           4.25|\n",
      "|   yellow|       2|              1|         0.33|         5|                 N|         265|         265|           1|      320.0|  0.0|    0.0|      29.0|         0.0|                  1.0|                 0.0|               0.0|       350.0|2025-03-05 20:12:07|2025-03-05 20:13:09| 8590431032|    1.03|        1060.61|           339.81|         20|          4|           30.0|\n",
      "|   yellow|       2|              1|         0.11|         5|                 N|         215|          74|           1|      264.0|  0.0|    0.0|      10.0|         0.0|                  1.0|                 0.0|               0.0|       275.0|2025-03-19 12:57:38|2025-03-19 12:58:45| 8591838784|    1.12|         2500.0|           245.54|         12|          4|           11.0|\n",
      "|   yellow|       2|              1|         0.46|         5|                 N|         261|         125|           4|      400.0|  0.0|    0.0|       0.0|         0.0|                  1.0|                 2.5|               0.0|       403.5|2025-01-09 22:21:46|2025-01-09 22:23:33|34360517588|    1.78|         877.17|           226.69|         22|          5|            3.5|\n",
      "|   yellow|       2|              1|         0.35|         5|                 N|         164|          68|           4|      357.0|  0.0|    0.0|       0.0|       24.06|                  1.0|                 2.5|              0.75|      385.31|2025-05-24 02:19:05|2025-05-24 02:20:48|    2618494|    1.72|        1100.89|           224.02|          2|          7|          28.31|\n",
      "|   yellow|       2|              1|         0.46|         5|                 N|          21|          11|           1|      350.0|  0.0|    0.0|     105.3|         0.0|                  1.0|                 0.0|               0.0|       456.3|2025-01-09 19:58:43|2025-01-09 20:00:56|34360501036|    2.22|         991.96|           205.54|         19|          5|          106.3|\n",
      "|   yellow|       2|              4|         0.27|         5|                 N|          65|          65|           1|      220.0|  0.0|    0.0|      44.2|         0.0|                  1.0|                 0.0|               0.0|       265.2|2025-05-04 16:40:56|2025-05-04 16:42:14|     418231|     1.3|         982.22|            204.0|         16|          1|           45.2|\n",
      "|   yellow|       2|              1|         0.21|         5|                 N|         100|         164|           4|      200.0|  0.0|    0.0|       0.0|         0.0|                  1.0|                 2.5|              0.75|      204.25|2025-04-04 00:29:45|2025-04-04 00:30:47|17180208132|    1.03|         972.62|            198.3|          0|          6|           4.25|\n",
      "|   yellow|       1|              1|          0.2|         5|                 N|         265|         265|           1|     196.25| 3.25|    0.5|      1.11|         0.0|                  1.0|                 2.5|              0.75|      202.11|2025-02-23 17:54:30|2025-02-23 17:55:33|25772038160|    1.05|        1010.55|           192.49|         17|          1|           5.86|\n",
      "+---------+--------+---------------+-------------+----------+------------------+------------+------------+------------+-----------+-----+-------+----------+------------+---------------------+--------------------+------------------+------------+-------------------+-------------------+-----------+--------+---------------+-----------------+-----------+-----------+---------------+\n",
      "only showing top 10 rows\n",
      "\n"
     ]
    }
   ],
   "source": [
    "shared_columns = [\n",
    "    'VendorID',\n",
    "    'passenger_count',\n",
    "    'trip_distance', # in miles\n",
    "    'RatecodeID',\n",
    "    'store_and_fwd_flag', # Y = store and forward trip, N = not a store and forward trip\n",
    "    'PULocationID', # taximeter was engaged.\n",
    "    'DOLocationID', # taximeter was disengaged\n",
    "    'payment_type',\n",
    "\n",
    "    # costs/charges\n",
    "    'fare_amount', # The time-and-distance fare calculated by the meter\n",
    "    'extra',\n",
    "    'mta_tax',\n",
    "    'tip_amount', # Tip amount – This field is automatically populated for credit card tips. Cash tips are not included.\n",
    "    'tolls_amount',\n",
    "    'improvement_surcharge',\n",
    "    'congestion_surcharge',\n",
    "    'cbd_congestion_fee', # Per-trip charge for MTA's Congestion Relief Zone\n",
    "    \n",
    "    'total_amount',\n",
    "]\n",
    "\n",
    "df_trip = (\n",
    "    reduce(\n",
    "        DataFrame.unionByName,\n",
    "        [\n",
    "            df_raw['yellow_tripdata'].select(\n",
    "                F.lit('yellow').alias('taxi_type'),\n",
    "                *shared_columns,\n",
    "                F.col('tpep_pickup_datetime').alias('pickup_datetime'),\n",
    "                F.col('tpep_dropoff_datetime').alias('dropoff_datetime'),\n",
    "            ),\n",
    "            df_raw['green_tripdata'].select(\n",
    "                F.lit('green').alias('taxi_type'),\n",
    "                *shared_columns,\n",
    "                F.col('lpep_pickup_datetime').alias('pickup_datetime'),\n",
    "                F.col('lpep_dropoff_datetime').alias('dropoff_datetime'),\n",
    "            ),\n",
    "        ]\n",
    "    )\n",
    "    .withColumn('id', F.monotonically_increasing_id()) # unique identifier for each trip\n",
    "    .withColumn('duration', F.round((F.unix_timestamp('dropoff_datetime') - F.unix_timestamp('pickup_datetime'))/60,2)) # in minutes\n",
    "    .withColumn('charge_per_mile', F.round(F.col('total_amount') / F.col('trip_distance'),2)) # in $/mile\n",
    "    .withColumn('charge_per_minute', F.round(F.col('total_amount') / (F.col('duration')),2)) # in $/minute\n",
    "    .withColumn('pickup_hour', F.hour('pickup_datetime')) # 0 - 23\n",
    "    .withColumn('day_of_week', F.dayofweek('pickup_datetime')) # 1=Sunday, 7=Saturday\n",
    "    .withColumn('non_fare_amount', F.round(F.col('total_amount') - F.col('fare_amount'),2)) # non-fare amount (tips, tolls, etc.)\n",
    "    \n",
    "    .where('duration > 1 and trip_distance > 0.1') # filter out unrealistic trip durations and distances\n",
    "    .where('total_amount between 1 and 2000') # filter out unrealistic trip costs\n",
    ")\n",
    "df_trip.orderBy(F.col('charge_per_minute').desc()).show(10)"
   ]
  },
  {
   "cell_type": "markdown",
   "id": "2944d5a2",
   "metadata": {},
   "source": [
    "#### df_taxi_zone"
   ]
  },
  {
   "cell_type": "code",
   "execution_count": 20,
   "id": "247b6ecf",
   "metadata": {},
   "outputs": [
    {
     "name": "stdout",
     "output_type": "stream",
     "text": [
      "+----------+-------------+--------------------+------------+\n",
      "|LocationID|      Borough|                Zone|service_zone|\n",
      "+----------+-------------+--------------------+------------+\n",
      "|         1|          EWR|      Newark Airport|         EWR|\n",
      "|         2|       Queens|         Jamaica Bay|   Boro Zone|\n",
      "|         3|        Bronx|Allerton/Pelham G...|   Boro Zone|\n",
      "|         4|    Manhattan|       Alphabet City| Yellow Zone|\n",
      "|         5|Staten Island|       Arden Heights|   Boro Zone|\n",
      "+----------+-------------+--------------------+------------+\n",
      "only showing top 5 rows\n",
      "\n",
      "root\n",
      " |-- LocationID: integer (nullable = true)\n",
      " |-- Borough: string (nullable = true)\n",
      " |-- Zone: string (nullable = true)\n",
      " |-- service_zone: string (nullable = true)\n",
      "\n"
     ]
    }
   ],
   "source": [
    "df_taxi_zone = (\n",
    "    spark.read.csv(f'{CSV_INPUT_PATH}/taxi_zone_lookup.csv', header=True)\n",
    "    .withColumn('LocationID', F.col('LocationID').cast('int'))\n",
    ")\n",
    "df_taxi_zone.show(5)\n",
    "df_taxi_zone.printSchema()"
   ]
  },
  {
   "cell_type": "markdown",
   "id": "76157393",
   "metadata": {},
   "source": [
    "#### df_vendor"
   ]
  },
  {
   "cell_type": "code",
   "execution_count": 21,
   "id": "48e3c6e9",
   "metadata": {},
   "outputs": [],
   "source": [
    "df_vendor = spark.createDataFrame([\n",
    "    (1, 'Creative Mobile Technologies, LLC'),\n",
    "    (2, 'Curb Mobility, LLC'),\n",
    "    (6, 'Myle Technologies Inc'),\n",
    "    (7, 'Helix'),\n",
    "], ['VendorID', 'VendorName'])"
   ]
  },
  {
   "cell_type": "markdown",
   "id": "d8c77f5b",
   "metadata": {},
   "source": [
    "#### df_rate_code"
   ]
  },
  {
   "cell_type": "code",
   "execution_count": 22,
   "id": "3f9e3a3d",
   "metadata": {},
   "outputs": [],
   "source": [
    "df_rate_code = spark.createDataFrame([\n",
    "    (1, 'Standard rate'),\n",
    "    (2, 'JFK'), # John F. Kennedy Airport (JFK)\n",
    "    (3, 'Newark'), # Newark Airport (EWR): tolls + surcharge\n",
    "    (4, 'Nassau or Westchester'), # Westchester and Nassau Counties tolls\n",
    "    (5, 'Negotiated fare'), # Other Points Outside the City\n",
    "    (6, 'Group ride'),\n",
    "    (99, 'Null/unknown'),\n",
    "], ['RatecodeID', 'RateName'])"
   ]
  },
  {
   "cell_type": "markdown",
   "id": "e61aede0",
   "metadata": {},
   "source": [
    "#### df_payment_type"
   ]
  },
  {
   "cell_type": "code",
   "execution_count": 23,
   "id": "6db83d7e",
   "metadata": {},
   "outputs": [],
   "source": [
    "df_payment_type = spark.createDataFrame([\n",
    "    (0, 'Flex Fare trip'),\n",
    "    (1, 'Credit card'),\n",
    "    (2, 'Cash'),\n",
    "    (3, 'No charge'),\n",
    "    (4, 'Dispute'),\n",
    "    (5, 'Unknown'),\n",
    "    (6, 'Voided trip'),\n",
    "], ['payment_type','PaymentTypeName'])"
   ]
  },
  {
   "cell_type": "markdown",
   "id": "ebd504d8",
   "metadata": {},
   "source": [
    "### ANOMALIES"
   ]
  },
  {
   "cell_type": "code",
   "execution_count": 24,
   "id": "f9ea116e",
   "metadata": {},
   "outputs": [
    {
     "name": "stdout",
     "output_type": "stream",
     "text": [
      "+---------+--------+---------------+-------------+----------+------------------+------------+------------+------------+-----------+-----+-------+----------+------------+---------------------+--------------------+------------------+------------+---------------+----------------+---+--------+---------------+-----------------+-----------+-----------+---------------+\n",
      "|taxi_type|VendorID|passenger_count|trip_distance|RatecodeID|store_and_fwd_flag|PULocationID|DOLocationID|payment_type|fare_amount|extra|mta_tax|tip_amount|tolls_amount|improvement_surcharge|congestion_surcharge|cbd_congestion_fee|total_amount|pickup_datetime|dropoff_datetime| id|duration|charge_per_mile|charge_per_minute|pickup_hour|day_of_week|non_fare_amount|\n",
      "+---------+--------+---------------+-------------+----------+------------------+------------+------------+------------+-----------+-----+-------+----------+------------+---------------------+--------------------+------------------+------------+---------------+----------------+---+--------+---------------+-----------------+-----------+-----------+---------------+\n",
      "+---------+--------+---------------+-------------+----------+------------------+------------+------------+------------+-----------+-----+-------+----------+------------+---------------------+--------------------+------------------+------------+---------------+----------------+---+--------+---------------+-----------------+-----------+-----------+---------------+\n",
      "\n"
     ]
    }
   ],
   "source": [
    "df_trip.where('VendorID = 7').show(5) # Vendor 7 (Helix) doesn't actually record dropoff_datetime, so we can't calculate duration or charge per mile/minute"
   ]
  },
  {
   "cell_type": "markdown",
   "id": "30a36365",
   "metadata": {},
   "source": [
    "### WRITE TO DISK"
   ]
  },
  {
   "cell_type": "code",
   "execution_count": 25,
   "id": "d47a52a9",
   "metadata": {},
   "outputs": [
    {
     "name": "stdout",
     "output_type": "stream",
     "text": [
      "Writing df_trip to parquet...\n",
      "Writing df_taxi_zone to parquet...\n",
      "Writing df_vendor to parquet...\n",
      "Writing df_rate_code to parquet...\n",
      "Writing df_payment_type to parquet...\n",
      "Finished!\n"
     ]
    }
   ],
   "source": [
    "dataframe_list = [\n",
    "    'df_trip',\n",
    "    'df_taxi_zone',\n",
    "    'df_vendor',\n",
    "    'df_rate_code',\n",
    "    'df_payment_type',\n",
    "]\n",
    "\n",
    "if not os.path.exists(OUTPUT_PATH):\n",
    "    os.makedirs(OUTPUT_PATH)\n",
    "\n",
    "for df_name in dataframe_list:\n",
    "    print(f'Writing {df_name} to parquet...')\n",
    "    globals()[df_name].write.mode('overwrite').parquet(f'{OUTPUT_PATH}/{df_name.replace(\"df_\", \"\")}')\n",
    "print('Finished!')"
   ]
  }
 ],
 "metadata": {
  "kernelspec": {
   "display_name": "Python 3 (ipykernel)",
   "language": "python",
   "name": "python3"
  },
  "language_info": {
   "codemirror_mode": {
    "name": "ipython",
    "version": 3
   },
   "file_extension": ".py",
   "mimetype": "text/x-python",
   "name": "python",
   "nbconvert_exporter": "python",
   "pygments_lexer": "ipython3",
   "version": "3.11.6"
  }
 },
 "nbformat": 4,
 "nbformat_minor": 5
}
