{
 "cells": [
  {
   "cell_type": "code",
   "execution_count": 4,
   "id": "f81cacec-19c3-4ec7-a482-f6d48f5fbd88",
   "metadata": {},
   "outputs": [],
   "source": [
    "import requests\n",
    "import re\n",
    "import os\n",
    "import time\n",
    "\n",
    "LOOKUP_URL = 'https://d37ci6vzurychx.cloudfront.net/misc/taxi_zone_lookup.csv'\n",
    "URL ='https://www.nyc.gov/site/tlc/about/tlc-trip-record-data.page'\n",
    "URL_PATH = 'https://d37ci6vzurychx.cloudfront.net/trip-data'\n",
    "PARQUET_OUTPUT_PATH = 'storage/taxi_industry/parquet'\n",
    "CSV_OUTPUT_PATH = 'storage/taxi_industry/csv'\n",
    "TABLE_NAMES = [\n",
    "    'yellow_tripdata',\n",
    "    'green_tripdata',\n",
    "]"
   ]
  },
  {
   "cell_type": "markdown",
   "id": "23b6a830",
   "metadata": {},
   "source": [
    "# Lookup table"
   ]
  },
  {
   "cell_type": "code",
   "execution_count": 5,
   "id": "d5c3733b",
   "metadata": {},
   "outputs": [],
   "source": [
    "if not os.path.exists(CSV_OUTPUT_PATH):\n",
    "    os.makedirs(CSV_OUTPUT_PATH)\n",
    "\n",
    "\n",
    "response = requests.get(LOOKUP_URL)\n",
    "if response.status_code == 200:\n",
    "    with open(f'{CSV_OUTPUT_PATH}/taxi_zone_lookup.csv', 'wb+') as file:\n",
    "        file.write(response.content)"
   ]
  },
  {
   "cell_type": "markdown",
   "id": "4ab31ff7",
   "metadata": {},
   "source": [
    "# Trip data"
   ]
  },
  {
   "cell_type": "code",
   "execution_count": 6,
   "id": "284d9978",
   "metadata": {},
   "outputs": [
    {
     "name": "stdout",
     "output_type": "stream",
     "text": [
      "download_links= ['https://d37ci6vzurychx.cloudfront.net/trip-data/yellow_tripdata_2025-01.parquet', 'https://d37ci6vzurychx.cloudfront.net/trip-data/yellow_tripdata_2025-02.parquet', 'https://d37ci6vzurychx.cloudfront.net/trip-data/yellow_tripdata_2025-03.parquet', 'https://d37ci6vzurychx.cloudfront.net/trip-data/yellow_tripdata_2025-04.parquet', 'https://d37ci6vzurychx.cloudfront.net/trip-data/yellow_tripdata_2025-05.parquet', 'https://d37ci6vzurychx.cloudfront.net/trip-data/yellow_tripdata_2024-04.parquet', 'https://d37ci6vzurychx.cloudfront.net/trip-data/yellow_tripdata_2024-05.parquet', 'https://d37ci6vzurychx.cloudfront.net/trip-data/yellow_tripdata_2024-06.parquet', 'https://d37ci6vzurychx.cloudfront.net/trip-data/yellow_tripdata_2024-07.parquet', 'https://d37ci6vzurychx.cloudfront.net/trip-data/yellow_tripdata_2024-08.parquet', 'https://d37ci6vzurychx.cloudfront.net/trip-data/yellow_tripdata_2024-09.parquet', 'https://d37ci6vzurychx.cloudfront.net/trip-data/yellow_tripdata_2024-10.parquet', 'https://d37ci6vzurychx.cloudfront.net/trip-data/yellow_tripdata_2024-11.parquet', 'https://d37ci6vzurychx.cloudfront.net/trip-data/yellow_tripdata_2024-12.parquet', 'https://d37ci6vzurychx.cloudfront.net/trip-data/green_tripdata_2025-01.parquet', 'https://d37ci6vzurychx.cloudfront.net/trip-data/green_tripdata_2025-02.parquet', 'https://d37ci6vzurychx.cloudfront.net/trip-data/green_tripdata_2025-03.parquet', 'https://d37ci6vzurychx.cloudfront.net/trip-data/green_tripdata_2025-04.parquet', 'https://d37ci6vzurychx.cloudfront.net/trip-data/green_tripdata_2025-05.parquet', 'https://d37ci6vzurychx.cloudfront.net/trip-data/green_tripdata_2024-02.parquet', 'https://d37ci6vzurychx.cloudfront.net/trip-data/green_tripdata_2024-04.parquet', 'https://d37ci6vzurychx.cloudfront.net/trip-data/green_tripdata_2024-05.parquet', 'https://d37ci6vzurychx.cloudfront.net/trip-data/green_tripdata_2024-06.parquet', 'https://d37ci6vzurychx.cloudfront.net/trip-data/green_tripdata_2024-07.parquet', 'https://d37ci6vzurychx.cloudfront.net/trip-data/green_tripdata_2024-08.parquet', 'https://d37ci6vzurychx.cloudfront.net/trip-data/green_tripdata_2024-09.parquet', 'https://d37ci6vzurychx.cloudfront.net/trip-data/green_tripdata_2024-10.parquet', 'https://d37ci6vzurychx.cloudfront.net/trip-data/green_tripdata_2024-11.parquet', 'https://d37ci6vzurychx.cloudfront.net/trip-data/green_tripdata_2024-12.parquet']\n",
      "Finish!\n"
     ]
    }
   ],
   "source": [
    "response = requests.get(URL)\n",
    "download_links = []\n",
    "for table in TABLE_NAMES:\n",
    "    # example: href=\"https://d37ci6vzurychx.cloudfront.net/trip-data/yellow_tripdata_2025-01.parquet\"\n",
    "    #          href=\"https://d37ci6vzurychx.cloudfront.net/trip-data/yellow_tripdata_2025-02.parquet\"\n",
    "\n",
    "    matches = re.findall(rf'href=\"({URL_PATH}/.*{table}_202[45].*\\.parquet)\"', response.text) # ONLY 2024 and 2025 data\n",
    "    download_links.extend(matches) if matches else None\n",
    "print(\"download_links=\",download_links)\n",
    "if not os.path.exists(PARQUET_OUTPUT_PATH):\n",
    "    os.makedirs(PARQUET_OUTPUT_PATH)\n",
    "\n",
    "arr = os.listdir(PARQUET_OUTPUT_PATH)\n",
    "existing_files = []\n",
    "for file in arr:\n",
    "    existing_files.append(file)\n",
    "\n",
    "for link in download_links:\n",
    "    filename = link.split('/')[-1]\n",
    "    if filename in existing_files:\n",
    "        # print(f'Skipping {filename}, already exists.')\n",
    "        continue\n",
    "    print(f'Downloading {filename}...')\n",
    "\n",
    "    # use exponential backoff to avoid hitting rate limits.\n",
    "\n",
    "    max_retries = 3\n",
    "    backoff = 1  # seconds\n",
    "    for attempt in range(max_retries):\n",
    "        response = requests.get(link)\n",
    "        if response.status_code == 200:\n",
    "            with open(f'{PARQUET_OUTPUT_PATH}/{filename}', 'wb+') as file:\n",
    "                file.write(response.content)\n",
    "            break\n",
    "        elif response.status_code == 403:\n",
    "            print(f\"Failed to download {filename} (status {response.status_code}), ACCESS DENIED\")\n",
    "            break\n",
    "        else:\n",
    "            print(f\"Failed to download {filename} (status {response.status_code}), retrying in {backoff} seconds...\")\n",
    "            time.sleep(backoff)\n",
    "            backoff *= 2\n",
    "    else:\n",
    "        print(f\"Failed to download {filename} after {max_retries} attempts.\")\n",
    "\n",
    "print('Finish!')"
   ]
  }
 ],
 "metadata": {
  "kernelspec": {
   "display_name": "Python 3 (ipykernel)",
   "language": "python",
   "name": "python3"
  }
 },
 "nbformat": 4,
 "nbformat_minor": 5
}
