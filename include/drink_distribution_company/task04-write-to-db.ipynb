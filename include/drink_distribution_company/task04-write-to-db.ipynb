{
 "cells": [
  {
   "cell_type": "code",
   "execution_count": 1,
   "id": "29376194",
   "metadata": {},
   "outputs": [],
   "source": [
    "import psycopg2\n",
    "from psycopg2.extensions import ISOLATION_LEVEL_AUTOCOMMIT\n",
    "from pyspark.sql import SparkSession\n",
    "\n",
    "# CONSTANTS\n",
    "DB_NAME = 'drink_distribution_company'\n",
    "DB_USER = 'postgres'\n",
    "DB_PASSWORD = '1234'\n",
    "DB_HOST = 'output-db'\n",
    "DB_PORT = 5433\n",
    "\n",
    "INPUT_PATH = 'storage/drink_distribution_company/parquet'\n",
    "TABLE_PROPERTIES = [ # name, [PK], [FK]\n",
    "    ('city', ['id'], []),\n",
    "    ('inventory', ['id'], [('store_id','store(id)'), ('product_id','product(id)')]),\n",
    "    ('invoice', ['id'], [('purchase_order_id', 'purchase_order(id)'),]),\n",
    "    ('product', ['id'], []),\n",
    "    ('purchase', ['id'], [('purchase_order_id', 'purchase_order(id)'),('inventory_id', 'inventory(id)'),]),\n",
    "    ('purchase_order', ['id'], [('vendor_id', 'vendor(id)'),]),\n",
    "    ('sale', ['id'], [('inventory_id', 'inventory(id)'),('vendor_id', 'vendor(id)'),]),\n",
    "    ('store', ['id'], []),\n",
    "    ('vendor', ['id'], []),\n",
    "]"
   ]
  },
  {
   "cell_type": "code",
   "execution_count": 2,
   "id": "a9f5e832",
   "metadata": {},
   "outputs": [
    {
     "name": "stdout",
     "output_type": "stream",
     "text": [
      "Database 'drink_distribution_company' already exists.\n"
     ]
    }
   ],
   "source": [
    "# Create the drink_distribution_company database if it doesn't exist\n",
    "try:\n",
    "    conn = psycopg2.connect(dbname='postgres', user=DB_USER, password=DB_PASSWORD, host=DB_HOST, port=DB_PORT)\n",
    "    conn.set_isolation_level(ISOLATION_LEVEL_AUTOCOMMIT)\n",
    "    cur = conn.cursor()\n",
    "    cur.execute(f\"SELECT 1 FROM pg_database WHERE datname = '{DB_NAME}'\")\n",
    "    exists = cur.fetchone()\n",
    "    if not exists:\n",
    "        cur.execute(f'CREATE DATABASE {DB_NAME}')\n",
    "        print(f\"Database '{DB_NAME}' created.\")\n",
    "    else:\n",
    "        print(f\"Database '{DB_NAME}' already exists.\")\n",
    "    cur.close()\n",
    "    conn.close()\n",
    "except Exception as e:\n",
    "    print(f\"Error creating database: {e}\")"
   ]
  },
  {
   "cell_type": "code",
   "execution_count": 3,
   "id": "a6019e44",
   "metadata": {},
   "outputs": [
    {
     "name": "stdout",
     "output_type": "stream",
     "text": [
      "Writing city to PostgreSQL database...\n",
      "Writing inventory to PostgreSQL database...\n",
      "Writing invoice to PostgreSQL database...\n",
      "Writing product to PostgreSQL database...\n",
      "Writing purchase to PostgreSQL database...\n",
      "Writing purchase_order to PostgreSQL database...\n",
      "Writing sale to PostgreSQL database...\n",
      "Writing store to PostgreSQL database...\n",
      "Writing vendor to PostgreSQL database...\n",
      "Finished!\n"
     ]
    }
   ],
   "source": [
    "spark= (\n",
    "    SparkSession.builder.appName(\"write-to-db\")\n",
    "    .config(\"spark.jars\", \"/usr/local/spark/jars/postgresql.jar\")\n",
    "    .getOrCreate()\n",
    ")\n",
    "\n",
    "_df_raw={}\n",
    "for table_name,_,_ in TABLE_PROPERTIES:\n",
    "    filename=rf'{INPUT_PATH}/{table_name}'\n",
    "    _df_raw[table_name]=spark.read.format('parquet').option(\"header\",True).load(filename)\n",
    "    jdbc_url = f'jdbc:postgresql://{DB_HOST}:{DB_PORT}/{DB_NAME}'\n",
    "    properties = {\n",
    "        'user': f'{DB_USER}',\n",
    "        'password': f'{DB_PASSWORD}',\n",
    "        'driver': 'org.postgresql.Driver'\n",
    "    }\n",
    "\n",
    "    print(f'Writing {table_name} to PostgreSQL database...')\n",
    "    _df_raw[table_name].write.jdbc(url=jdbc_url, table=table_name, mode=\"overwrite\", properties=properties)\n",
    "print('Finished!')"
   ]
  },
  {
   "cell_type": "code",
   "execution_count": 7,
   "id": "87bb360a",
   "metadata": {},
   "outputs": [
    {
     "name": "stdout",
     "output_type": "stream",
     "text": [
      "ALTER TABLE \"city\" ADD CONSTRAINT city_pkey PRIMARY KEY (id)\n",
      "ALTER TABLE \"inventory\" ADD CONSTRAINT inventory_pkey PRIMARY KEY (id)\n",
      "ALTER TABLE \"invoice\" ADD CONSTRAINT invoice_pkey PRIMARY KEY (id)\n",
      "ALTER TABLE \"product\" ADD CONSTRAINT product_pkey PRIMARY KEY (id)\n",
      "ALTER TABLE \"purchase\" ADD CONSTRAINT purchase_pkey PRIMARY KEY (id)\n",
      "ALTER TABLE \"purchase_order\" ADD CONSTRAINT purchase_order_pkey PRIMARY KEY (id)\n",
      "ALTER TABLE \"sale\" ADD CONSTRAINT sale_pkey PRIMARY KEY (id)\n",
      "ALTER TABLE \"store\" ADD CONSTRAINT store_pkey PRIMARY KEY (id)\n",
      "ALTER TABLE \"vendor\" ADD CONSTRAINT vendor_pkey PRIMARY KEY (id)\n",
      "ALTER TABLE \"inventory\" ADD CONSTRAINT inventory_store_id_fkey FOREIGN KEY (store_id) REFERENCES store(id)\n",
      "ALTER TABLE \"inventory\" ADD CONSTRAINT inventory_product_id_fkey FOREIGN KEY (product_id) REFERENCES product(id)\n",
      "ALTER TABLE \"invoice\" ADD CONSTRAINT invoice_purchase_order_id_fkey FOREIGN KEY (purchase_order_id) REFERENCES purchase_order(id)\n",
      "ALTER TABLE \"purchase\" ADD CONSTRAINT purchase_purchase_order_id_fkey FOREIGN KEY (purchase_order_id) REFERENCES purchase_order(id)\n",
      "ALTER TABLE \"purchase\" ADD CONSTRAINT purchase_inventory_id_fkey FOREIGN KEY (inventory_id) REFERENCES inventory(id)\n",
      "ALTER TABLE \"purchase_order\" ADD CONSTRAINT purchase_order_vendor_id_fkey FOREIGN KEY (vendor_id) REFERENCES vendor(id)\n",
      "ALTER TABLE \"sale\" ADD CONSTRAINT sale_inventory_id_fkey FOREIGN KEY (inventory_id) REFERENCES inventory(id)\n",
      "ALTER TABLE \"sale\" ADD CONSTRAINT sale_vendor_id_fkey FOREIGN KEY (vendor_id) REFERENCES vendor(id)\n"
     ]
    }
   ],
   "source": [
    "# use psycopg2 to add PRIMARY KEY and FOREIGN KEY constraints\n",
    "conn = psycopg2.connect(dbname=DB_NAME, user=DB_USER, password=DB_PASSWORD, host=DB_HOST, port=DB_PORT)\n",
    "cur = conn.cursor()\n",
    "for t, pk, _ in TABLE_PROPERTIES:\n",
    "    if pk:\n",
    "        n = f\"{t}_pkey\"\n",
    "        cur.execute(\"SELECT 1 FROM information_schema.table_constraints WHERE table_name=%s AND constraint_name=%s\", (t, n))\n",
    "        if not cur.fetchone():\n",
    "            pk_constraint_query = f'ALTER TABLE \"{t}\" ADD CONSTRAINT {n} PRIMARY KEY ({\", \".join(pk)})'\n",
    "            print(pk_constraint_query)\n",
    "            cur.execute(pk_constraint_query)\n",
    "    \n",
    "for t, _, fks in TABLE_PROPERTIES:\n",
    "    for c, r in fks:\n",
    "        n = f\"{t}_{c}_fkey\"\n",
    "        cur.execute(\"SELECT 1 FROM information_schema.table_constraints WHERE table_name=%s AND constraint_name=%s\", (t, n))\n",
    "        if not cur.fetchone():\n",
    "            fk_constraint_query = f'ALTER TABLE \"{t}\" ADD CONSTRAINT {n} FOREIGN KEY ({c}) REFERENCES {r}'\n",
    "            print(fk_constraint_query)\n",
    "            cur.execute(fk_constraint_query)\n",
    "conn.commit(); cur.close(); conn.close()"
   ]
  }
 ],
 "metadata": {
  "kernelspec": {
   "display_name": "Python 3 (ipykernel)",
   "language": "python",
   "name": "python3"
  },
  "language_info": {
   "codemirror_mode": {
    "name": "ipython",
    "version": 3
   },
   "file_extension": ".py",
   "mimetype": "text/x-python",
   "name": "python",
   "nbconvert_exporter": "python",
   "pygments_lexer": "ipython3",
   "version": "3.11.6"
  }
 },
 "nbformat": 4,
 "nbformat_minor": 5
}
